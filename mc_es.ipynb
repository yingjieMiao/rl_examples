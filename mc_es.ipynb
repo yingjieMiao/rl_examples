{
 "cells": [
  {
   "cell_type": "code",
   "execution_count": 1,
   "metadata": {},
   "outputs": [],
   "source": [
    "# Sutton's book Chapter 5: Monte Carlo with Exploring Start\n",
    "# Blackjack as in https://www.youtube.com/watch?v=SWdPf21v5Ak\n",
    "import random\n",
    "import numpy as np\n",
    "from scipy.stats import beta\n",
    "import matplotlib.pyplot as plt\n",
    "\n",
    "DECK_OF_CARDS = [1,2,3,4,5,6,7,8,9,10,10,10,10] * 4 #J, Q, K count as 10.\n",
    "DEALDER_STICK_THRESHOLD = 17 # same as Sutton's and Vega's rule\n",
    "\n",
    "def sum_hand(hand):\n",
    "    min_s = sum(hand)\n",
    "    max_s = sum(hand)\n",
    "    if 1 in hand:\n",
    "        max_s = min_s  + 10\n",
    "    if max_s <= 21 and max_s > min_s:\n",
    "        ## Has a usable ACE.\n",
    "        return (max_s, 1)\n",
    "    else:\n",
    "        return (min_s, 0)\n",
    "    \n",
    "def busted(hand):\n",
    "    (s, _) = sum_hand(hand)\n",
    "    return s > 21    \n",
    "    \n",
    "def convert_cards_to_state(my_cards, dealer_card):\n",
    "    (s, usable_ace) = sum_hand(my_cards)\n",
    "    # state is 0-based, for easy indexing with ndarray.\n",
    "    return (s-1, dealer_card-1, usable_ace)"
   ]
  },
  {
   "cell_type": "code",
   "execution_count": 2,
   "metadata": {},
   "outputs": [],
   "source": [
    "class BasePlayer(object):\n",
    "    # Return 1 if hit, 0 if stick.\n",
    "    def action(self, cards, rival_card):\n",
    "        raise NotImplementedError(\"action() is not implemented.\")\n",
    "\n",
    "class Dealer(BasePlayer):\n",
    "    def __init__(self):\n",
    "        self.stick_threshold = DEALDER_STICK_THRESHOLD\n",
    "    def action(self, cards):\n",
    "        (s, _) = sum_hand(cards) #s>=1 \n",
    "        return int(self.stick_threshold > s) #stick for 17 or greater, same as Sutton's "
   ]
  },
  {
   "cell_type": "code",
   "execution_count": 3,
   "metadata": {},
   "outputs": [],
   "source": [
    "class Policy(object):\n",
    "    def __init__(self):\n",
    "        # stats is a 5D tensor. \n",
    "        # The first 3 dimensions describe state. The 4th dimension describes\n",
    "        # action (0 for stick, 1 for hit). The 5th dimension describes the\n",
    "        # reward: {-1, 0, 1}.\n",
    "        # self.states[i][j][k][a][r] saves counts of how many times we have\n",
    "        # reward `r` when we take action `a` for state s = (i, j, k) (s is 0-based).\n",
    "        self.stats = np.zeros((21, 10, 2, 2, 3), dtype='int64') \n",
    "        # q is a 4D tensor that represents q(s, a).\n",
    "        self.q = np.zeros((21, 10, 2, 2), dtype='float64')\n",
    "        # pi is a 4D tensor that represents pi(a|s), last dimension is the action\n",
    "        self.pi = np.zeros((21, 10, 2, 2), dtype='float64')\n",
    "        #pi[:,:,:,1] is the probability of hit while pi[:,:,:,0] is the probability of stick;use deterministic action here\n",
    "        self.pi[0:11,:,:,:] = [0., 1.] #Always hit if the cards sum to [1,11]; note that this part of pi should never get updated\n",
    "        self.pi[11:19,:,:,:]=[0.,1.] #same as Sutton's initial policy, hit if [12,19]; stick if 20,21\n",
    "        self.pi[19:,:,:,:] = [1., 0.] \n",
    "        \n",
    "    def update(self, state_action_seq, final_reward):\n",
    "        #update q(s,a) snd pi(a|s) using the episode(ie., state_action_seq) and the reward \n",
    "        #For blackjack, the states in the state_action_seq are all different; first visit MC and every visit MC are the same\n",
    "        for state_action in state_action_seq:  \n",
    "            (i,j,k,a) = state_action #i=sum(play_cards), 0<=i<=20, 0<=j<=9, k=0 or 1,  \n",
    "            # reward is in {-1, 0, 1}    \n",
    "            self.stats[i,j,k,a,final_reward + 1] += 1\n",
    "            # q stores the return estimate E[R|(s,a)] so far.\n",
    "            self.q[i,j,k,a] = (self.stats[i,j,k,a,2] - self.stats[i,j,k,a,0]) * 1.0 / np.sum(self.stats[i,j,k,a,:])\n",
    "                        \n",
    "            #greedy update pi(a|s) based on estimated q(s,a)\n",
    "            if i <= 10:\n",
    "                # No update: we always hit.\n",
    "                continue\n",
    "            if i == 20:\n",
    "                # No update: we always stick.\n",
    "                continue                     \n",
    "            # If q[i,i,k,0] > q[i,j,k,1], argsort returns [1,0].            \n",
    "            self.pi[i,j,k,:] = np.argsort(self.q[i,j,k,:]) \n",
    "  \n",
    "    def action(self, state):#greedy \n",
    "        return np.argmax(self.pi[state])\n",
    "    \n",
    "    # Visualize matrix as a grayscale image, assuming entries are in [0,1].\n",
    "    def imshow(self, ax, matrix, title):\n",
    "        ax.set_title(title)\n",
    "        ax.imshow(matrix, cmap='gray',vmin=0., vmax=1., interpolation=\"none\")        \n",
    "\n",
    "        ax.set_xlabel('Dealer Card')\n",
    "        ax.set_xticks(np.arange(10))\n",
    "        ax.set_xticklabels(np.arange(1,11,1).astype('S2'))\n",
    "        \n",
    "        ax.set_ylabel('Player Card')\n",
    "        ax.set_yticks(np.arange(11))\n",
    "        ax.set_yticklabels(np.arange(21,10,-1).astype('S2'))\n",
    "        \n",
    "        ax.spines['right'].set_color('none')\n",
    "        ax.spines['top'].set_color('none')      \n",
    "    \n",
    "    # Visualize the hard decision matrix \n",
    "    def visualize(self):\n",
    "        fig = plt.figure(figsize=(12, 9), dpi=80)\n",
    "        \n",
    "        usable_ace = 0\n",
    "        ax = plt.subplot(221)\n",
    "        decision = (self.pi[10:,:,usable_ace,1] > self.pi[10:,:,usable_ace,0]).astype(int)\n",
    "        self.imshow(ax, np.flipud(decision), 'Decision (No usable Ace)')\n",
    "        \n",
    "        usable_ace = 1\n",
    "        ax = plt.subplot(223)\n",
    "        decision = (self.pi[10:,:,usable_ace,1] > self.pi[10:,:,usable_ace,0]).astype(int)\n",
    "        self.imshow(ax, np.flipud(decision), 'Decision (with usable Ace)')\n",
    "        \n",
    "        plt.show()\n"
   ]
  },
  {
   "cell_type": "code",
   "execution_count": 4,
   "metadata": {},
   "outputs": [],
   "source": [
    "class PolicyPlayer(BasePlayer):\n",
    "    def __init__(self, policy):\n",
    "        self.policy = policy\n",
    "        self.state_action_pairs = []\n",
    "        \n",
    "    def action(self, cards, rival_card,a=None):\n",
    "        s = convert_cards_to_state(cards, rival_card) #s is 0-based \n",
    "        if a is None: \n",
    "            a = self.policy.action(s)\n",
    "        (i,j,k) = s  # \n",
    "        self.state_action_pairs.append((i,j,k,a))\n",
    "        return a\n",
    "    \n",
    "    def reset_states(self):\n",
    "        self.state_action_pairs = []"
   ]
  },
  {
   "cell_type": "code",
   "execution_count": 5,
   "metadata": {},
   "outputs": [],
   "source": [
    "# A simple debugger (to avoid clutter in main code.)\n",
    "class Dbg(object):\n",
    "    # level can be 0 or 1. (0 means silent.)\n",
    "    def __init__(self, level):\n",
    "        self.level = level\n",
    "    def print_hands(self, game):\n",
    "        if self.level == 0:\n",
    "            return\n",
    "        print 'dealer cards: ', game.dealer_cards \n",
    "        print 'player cards: ', game.player_cards\n",
    "        \n",
    "    def print_hand(self,cards):\n",
    "        if self.level == 0:\n",
    "            return\n",
    "        print 'cards: ', cards \n",
    "        \n",
    "    def on_dealer_action(self, action):\n",
    "        if self.level == 0:\n",
    "            return\n",
    "        print 'dealer action: ', action\n",
    "    def on_player_action(self, action):\n",
    "        if self.level == 0:\n",
    "            return\n",
    "        print 'player action: ', action\n",
    "    def print_bust_status(self, dealer, player):\n",
    "        if self.level == 0:\n",
    "            return\n",
    "        if player and dealer:\n",
    "            print 'both busted'\n",
    "        elif player:\n",
    "            print 'player busted'\n",
    "        elif dealer:\n",
    "            print 'dealer busted'\n",
    "        else:\n",
    "            pass\n",
    "    def print_sum_of_hands(self, dealer_sum, player_sum):\n",
    "        if self.level == 0:\n",
    "            return\n",
    "        print 'dealer sum: {}, player sum: {}'.format(dealer_sum, player_sum)\n",
    "        "
   ]
  },
  {
   "cell_type": "code",
   "execution_count": 6,
   "metadata": {},
   "outputs": [],
   "source": [
    "class Game(object):\n",
    "    \"\"\"\n",
    "    Blackjack shoe game as in https://www.youtube.com/watch?v=SWdPf21v5Ak\n",
    "    \"\"\"\n",
    "    def __init__(self, dealer, player, debug_level=0):\n",
    "        self.dealer = dealer\n",
    "        self.player = player\n",
    "        self.cards = DECK_OF_CARDS[:]\n",
    "        #random.shuffle(self.cards) #Sutton assumes infinite cards. Use sampling with replacement instead. \n",
    "        self.dbg = Dbg(debug_level)\n",
    "        \n",
    "    def on_player_action(self, action):\n",
    "        if action == 1:\n",
    "           #Sutton assumes infinite cards.\n",
    "            self.player_cards.extend(np.random.choice(self.cards,size=1))\n",
    "        self.dbg.on_player_action(action)\n",
    "    def on_dealer_action(self, action):\n",
    "        if action == 1:\n",
    "            self.dealer_cards.extend(np.random.choice(self.cards,size=1))\n",
    "        self.dbg.on_dealer_action(action)\n",
    "            \n",
    "    def play(self,dealer_init_cards, player_init_cards, a):\n",
    "        \"\"\"\n",
    "        each play generates an episode starting from state the initial states and action \n",
    "        dealer_init_cards, player_init_cards: List[Int] of size 2; must be non-busted state; \n",
    "        a: player first action,  1 for hit ; 0 for stick, \n",
    "        return: 1 if the player wins, -1 if the player loses, 0 for draw\n",
    "        \"\"\" \n",
    "        self.player.reset_states() #reset the player's memory of state_action pair\n",
    "        self.dealer_cards = list(dealer_init_cards)\n",
    "        self.player_cards = list(player_init_cards)\n",
    "        \n",
    "        assert not busted(dealer_init_cards) and not busted(player_init_cards), \"Error: Invalid initial state!\"\n",
    "        \n",
    "        #player's turn\n",
    "        self.player.action(self.player_cards,self.dealer_cards[0],a)\n",
    "        while a:\n",
    "            self.on_player_action(a)  # update the states \n",
    "            if busted(self.player_cards): \n",
    "                return -1 \n",
    "            a = self.player.action(self.player_cards, self.dealer_cards[0])\n",
    "    \n",
    "        self.on_player_action(a)\n",
    "        \n",
    "        #dealer's turn\n",
    "        a = self.dealer.action(self.dealer_cards)   \n",
    "        while a:\n",
    "            self.on_dealer_action(a)  # update the states \n",
    "            if busted(self.dealer_cards): \n",
    "                return 1\n",
    "            a = self.dealer.action(self.dealer_cards) #dealer sticks to the same rule regardless of the player's cards\n",
    "            \n",
    "        #both dealer and player stick \n",
    "        d_sum, _ = sum_hand(self.dealer_cards)\n",
    "        p_sum, _ = sum_hand(self.player_cards)\n",
    "        return np.sign(p_sum - d_sum)\n",
    "        \n",
    "  "
   ]
  },
  {
   "cell_type": "code",
   "execution_count": 7,
   "metadata": {},
   "outputs": [],
   "source": [
    "class Learner:\n",
    "    def __init__(self):\n",
    "        self.player_policy = Policy()\n",
    "        self.player = PolicyPlayer(self.player_policy)\n",
    "        self.dealer = Dealer()\n",
    "        self.game = Game(self.dealer,self.player)\n",
    "    def train(self):\n",
    "        \"\"\"\n",
    "        learn the optimal policy using MC with exploring starts \n",
    "        return: optimal policy pi(a|s)\n",
    "        \"\"\"\n",
    "        np.random.seed(4)\n",
    "        max_iter = int(1e6) #reduce max_iter to 1e6 generates correct result except for the case player=12, dealer=4, use_able=0 \n",
    "        tol = 1e-2\n",
    "        max_epoch =100\n",
    "        for i_epoch in range(max_epoch):\n",
    "            q_old = np.array(self.player_policy.q) \n",
    "            for i in range(max_iter): \n",
    "                dealer_init_cards = np.random.choice(self.game.cards,size=2,replace=True)\n",
    "                player_init_cards = np.random.choice(self.game.cards,size=2, replace=True)\n",
    "                for a in [0,1]:\n",
    "                    rt = self.game.play(dealer_init_cards, player_init_cards,a)\n",
    "                    self.player_policy.update(self.player.state_action_pairs,rt) \n",
    "            q_delta = np.max(np.abs(q_old-self.player_policy.q))\n",
    "            print \"epoch=%d, q_delta=%.6f\" % (i_epoch,q_delta)\n",
    "            if q_delta<tol: \n",
    "                break \n",
    "        else: \n",
    "            print \"Warning: not converge for max_epoch(%d), tol=%.4f\" %(max_epoch,tol)\n",
    "        return self.player_policy"
   ]
  },
  {
   "cell_type": "code",
   "execution_count": 8,
   "metadata": {
    "scrolled": true
   },
   "outputs": [
    {
     "name": "stdout",
     "output_type": "stream",
     "text": [
      "epoch=0, q_delta=0.939809\n",
      "epoch=1, q_delta=0.071547\n",
      "epoch=2, q_delta=0.042219\n",
      "epoch=3, q_delta=0.040160\n",
      "epoch=4, q_delta=0.028726\n",
      "epoch=5, q_delta=0.014514\n",
      "epoch=6, q_delta=0.020872\n",
      "epoch=7, q_delta=0.013394\n",
      "epoch=8, q_delta=0.013407\n",
      "epoch=9, q_delta=0.013193\n",
      "epoch=10, q_delta=0.012797\n",
      "epoch=11, q_delta=0.008625\n"
     ]
    }
   ],
   "source": [
    "learner = Learner()\n",
    "optimal_policy = learner.train()"
   ]
  },
  {
   "cell_type": "code",
   "execution_count": 9,
   "metadata": {},
   "outputs": [
    {
     "data": {
      "text/plain": [
       "(21, 10, 2, 2)"
      ]
     },
     "execution_count": 9,
     "metadata": {},
     "output_type": "execute_result"
    }
   ],
   "source": [
    "optimal_policy.pi.shape\n"
   ]
  },
  {
   "cell_type": "code",
   "execution_count": 10,
   "metadata": {},
   "outputs": [
    {
     "data": {
      "text/plain": [
       "array([[ 1.,  1.,  1.,  0.,  0.,  0.,  1.,  1.,  1.,  1.],\n",
       "       [ 1.,  0.,  0.,  0.,  0.,  0.,  1.,  1.,  1.,  1.],\n",
       "       [ 1.,  0.,  0.,  0.,  0.,  0.,  1.,  1.,  1.,  1.],\n",
       "       [ 1.,  0.,  0.,  0.,  0.,  0.,  1.,  1.,  1.,  1.],\n",
       "       [ 1.,  0.,  0.,  0.,  0.,  0.,  1.,  1.,  1.,  1.],\n",
       "       [ 0.,  0.,  0.,  0.,  0.,  0.,  0.,  0.,  0.,  0.],\n",
       "       [ 0.,  0.,  0.,  0.,  0.,  0.,  0.,  0.,  0.,  0.],\n",
       "       [ 0.,  0.,  0.,  0.,  0.,  0.,  0.,  0.,  0.,  0.],\n",
       "       [ 0.,  0.,  0.,  0.,  0.,  0.,  0.,  0.,  0.,  0.],\n",
       "       [ 0.,  0.,  0.,  0.,  0.,  0.,  0.,  0.,  0.,  0.]])"
      ]
     },
     "execution_count": 10,
     "metadata": {},
     "output_type": "execute_result"
    }
   ],
   "source": [
    "optimal_policy.pi[11:,:,0,1] #usable=0"
   ]
  },
  {
   "cell_type": "code",
   "execution_count": 11,
   "metadata": {},
   "outputs": [
    {
     "data": {
      "text/plain": [
       "array([[ 1.,  1.,  1.,  1.,  1.,  1.,  1.,  1.,  1.,  1.],\n",
       "       [ 1.,  1.,  1.,  1.,  1.,  1.,  1.,  1.,  1.,  1.],\n",
       "       [ 1.,  1.,  1.,  1.,  1.,  1.,  1.,  1.,  1.,  1.],\n",
       "       [ 1.,  1.,  1.,  1.,  1.,  1.,  1.,  1.,  1.,  1.],\n",
       "       [ 1.,  1.,  1.,  1.,  1.,  1.,  1.,  1.,  1.,  1.],\n",
       "       [ 1.,  1.,  1.,  1.,  1.,  1.,  1.,  1.,  1.,  1.],\n",
       "       [ 1.,  0.,  0.,  0.,  0.,  0.,  0.,  0.,  1.,  1.],\n",
       "       [ 0.,  0.,  0.,  0.,  0.,  0.,  0.,  0.,  0.,  0.],\n",
       "       [ 0.,  0.,  0.,  0.,  0.,  0.,  0.,  0.,  0.,  0.],\n",
       "       [ 0.,  0.,  0.,  0.,  0.,  0.,  0.,  0.,  0.,  0.]])"
      ]
     },
     "execution_count": 11,
     "metadata": {},
     "output_type": "execute_result"
    }
   ],
   "source": [
    "optimal_policy.pi[11:,:,1,1] #usable=1"
   ]
  },
  {
   "cell_type": "code",
   "execution_count": 240,
   "metadata": {},
   "outputs": [],
   "source": [
    "#export the result generated maxiter=1e8 as the true solution \n",
    "#np.save(\"optimal_policy_pi.npy\",optimal_policy.pi)\n",
    "#np.save(\"optimal_policy_q.npy\",optimal_policy.q)\n",
    "#np.save(\"optimal_policy_stats.npy\",optimal_policy.stats)"
   ]
  },
  {
   "cell_type": "code",
   "execution_count": 12,
   "metadata": {},
   "outputs": [
    {
     "data": {
      "text/plain": [
       "(1.0, 0.0, array([-0.20757332, -0.21537975]))"
      ]
     },
     "execution_count": 12,
     "metadata": {},
     "output_type": "execute_result"
    }
   ],
   "source": [
    "#player_cards=12, dealer up cards =3, useable=False is a difficult case due to the probability are very closed\n",
    "i,j,k = 11,3,0\n",
    "optimal_policy.pi[i,j,k,0], optimal_policy.pi[i,j,k,1], optimal_policy.q[i,j,k]"
   ]
  },
  {
   "cell_type": "code",
   "execution_count": 13,
   "metadata": {},
   "outputs": [
    {
     "data": {
      "text/plain": [
       "(21, 10, 2)"
      ]
     },
     "execution_count": 13,
     "metadata": {},
     "output_type": "execute_result"
    }
   ],
   "source": [
    "optimal_policy.v = optimal_policy.q.max(axis=3)\n",
    "optimal_policy.v.shape"
   ]
  },
  {
   "cell_type": "code",
   "execution_count": 14,
   "metadata": {},
   "outputs": [
    {
     "data": {
      "text/plain": [
       "array([[ 0.        ,  0.        ,  0.        ,  0.        ,  0.        ,\n",
       "         0.        ,  0.        ,  0.        ,  0.        ,  0.        ],\n",
       "       [ 0.        ,  0.        ,  0.        ,  0.        ,  0.        ,\n",
       "         0.        ,  0.        ,  0.        ,  0.        ,  0.        ],\n",
       "       [ 0.        ,  0.        ,  0.        ,  0.        ,  0.        ,\n",
       "         0.        ,  0.        ,  0.        ,  0.        ,  0.        ],\n",
       "       [-0.45466273, -0.09183119, -0.07024945, -0.06062271, -0.02084466,\n",
       "        -0.00145693, -0.08468038, -0.14755877, -0.23431427, -0.34311606],\n",
       "       [-0.45590667, -0.1245706 , -0.10328596, -0.07857794, -0.0093961 ,\n",
       "        -0.00552486, -0.11686267, -0.1807654 , -0.26012891, -0.35881289],\n",
       "       [-0.48523331, -0.12935592, -0.10338055, -0.08293783, -0.03286696,\n",
       "        -0.03611227, -0.1543676 , -0.2181916 , -0.29925172, -0.38036582],\n",
       "       [-0.49287467, -0.1116444 , -0.07760715, -0.04097901, -0.00889503,\n",
       "         0.02871672, -0.07247203, -0.21461247, -0.28775855, -0.3700755 ],\n",
       "       [-0.42225488, -0.02220213,  0.00382782,  0.03614377,  0.06881362,\n",
       "         0.11160669,  0.08609117, -0.06144295, -0.20921382, -0.30195848],\n",
       "       [-0.33295747,  0.08075287,  0.09792778,  0.12830107,  0.15256158,\n",
       "         0.19523732,  0.16689178,  0.10199844, -0.05297119, -0.21412216],\n",
       "       [-0.21644195,  0.18202688,  0.20287808,  0.22800471,  0.25891704,\n",
       "         0.29116982,  0.25092226,  0.20039079,  0.11091023, -0.04489209],\n",
       "       [-0.10382822,  0.23281433,  0.25301795,  0.28448891,  0.30864591,\n",
       "         0.33288886,  0.29728965,  0.22995859,  0.15799882,  0.05942858],\n",
       "       [-0.52348186, -0.25477161, -0.23786669, -0.20757332, -0.16593613,\n",
       "        -0.15866066, -0.2122719 , -0.27109152, -0.33880845, -0.41832285],\n",
       "       [-0.55414699, -0.29314235, -0.25452091, -0.20590873, -0.16629431,\n",
       "        -0.1580905 , -0.26964009, -0.32290553, -0.3816289 , -0.46271444],\n",
       "       [-0.5857245 , -0.28993104, -0.25621163, -0.21627105, -0.16758482,\n",
       "        -0.15153735, -0.3199636 , -0.36950201, -0.43116481, -0.50016578],\n",
       "       [-0.61383851, -0.28862128, -0.25153824, -0.21318293, -0.16683198,\n",
       "        -0.14995769, -0.37148539, -0.41819609, -0.47060244, -0.53720807],\n",
       "       [-0.64262983, -0.28601469, -0.25725113, -0.21157775, -0.16887982,\n",
       "        -0.15439085, -0.41622823, -0.45532316, -0.51150173, -0.57071003],\n",
       "       [-0.63831075, -0.15022316, -0.11580351, -0.08424755, -0.04388153,\n",
       "         0.00964556, -0.10569445, -0.38259379, -0.4212274 , -0.46458746],\n",
       "       [-0.37744611,  0.12500113,  0.15321071,  0.18056667,  0.1976831 ,\n",
       "         0.28344392,  0.39846567,  0.10400545, -0.18192439, -0.24043145],\n",
       "       [-0.11356664,  0.38823192,  0.40193476,  0.42081936,  0.43616285,\n",
       "         0.49544924,  0.61107315,  0.59630296,  0.29228805, -0.01993811],\n",
       "       [ 0.14319242,  0.64077778,  0.64829383,  0.65992943,  0.67037506,\n",
       "         0.70384338,  0.7714156 ,  0.79485153,  0.75707887,  0.43501185],\n",
       "       [ 0.63767099,  0.88056586,  0.88099495,  0.88868969,  0.8922456 ,\n",
       "         0.902095  ,  0.92645358,  0.93111045,  0.93909833,  0.8892794 ]])"
      ]
     },
     "execution_count": 14,
     "metadata": {},
     "output_type": "execute_result"
    }
   ],
   "source": [
    "optimal_policy.v[:,:,0] #usable=False, the first three rows are 0 because these states won't occur. "
   ]
  },
  {
   "cell_type": "code",
   "execution_count": 15,
   "metadata": {},
   "outputs": [
    {
     "data": {
      "text/plain": [
       "array([[ 0.        ,  0.        ,  0.        ,  0.        ,  0.        ,\n",
       "         0.        ,  0.        ,  0.        ,  0.        ,  0.        ],\n",
       "       [ 0.        ,  0.        ,  0.        ,  0.        ,  0.        ,\n",
       "         0.        ,  0.        ,  0.        ,  0.        ,  0.        ],\n",
       "       [ 0.        ,  0.        ,  0.        ,  0.        ,  0.        ,\n",
       "         0.        ,  0.        ,  0.        ,  0.        ,  0.        ],\n",
       "       [ 0.        ,  0.        ,  0.        ,  0.        ,  0.        ,\n",
       "         0.        ,  0.        ,  0.        ,  0.        ,  0.        ],\n",
       "       [ 0.        ,  0.        ,  0.        ,  0.        ,  0.        ,\n",
       "         0.        ,  0.        ,  0.        ,  0.        ,  0.        ],\n",
       "       [ 0.        ,  0.        ,  0.        ,  0.        ,  0.        ,\n",
       "         0.        ,  0.        ,  0.        ,  0.        ,  0.        ],\n",
       "       [ 0.        ,  0.        ,  0.        ,  0.        ,  0.        ,\n",
       "         0.        ,  0.        ,  0.        ,  0.        ,  0.        ],\n",
       "       [ 0.        ,  0.        ,  0.        ,  0.        ,  0.        ,\n",
       "         0.        ,  0.        ,  0.        ,  0.        ,  0.        ],\n",
       "       [ 0.        ,  0.        ,  0.        ,  0.        ,  0.        ,\n",
       "         0.        ,  0.        ,  0.        ,  0.        ,  0.        ],\n",
       "       [ 0.        ,  0.        ,  0.        ,  0.        ,  0.        ,\n",
       "         0.        ,  0.        ,  0.        ,  0.        ,  0.        ],\n",
       "       [ 0.        ,  0.        ,  0.        ,  0.        ,  0.        ,\n",
       "         0.        ,  0.        ,  0.        ,  0.        ,  0.        ],\n",
       "       [-0.27968289,  0.08711434,  0.09434307,  0.11778671,  0.16926253,\n",
       "         0.19480752,  0.16159592,  0.10704433,  0.00257022, -0.13049691],\n",
       "       [-0.29716238,  0.03619588,  0.06712304,  0.11780969,  0.11065094,\n",
       "         0.1567118 ,  0.12585812,  0.04388909, -0.01986404, -0.15965482],\n",
       "       [-0.33409574,  0.02262517,  0.04166328,  0.09113525,  0.10164857,\n",
       "         0.14811222,  0.07719913,  0.01932926, -0.05779646, -0.19621816],\n",
       "       [-0.36249062, -0.00874614,  0.02498706,  0.05667249,  0.08609521,\n",
       "         0.11962395,  0.0207346 , -0.03204085, -0.10769915, -0.22966779],\n",
       "       [-0.37839273, -0.01146925,  0.00638171,  0.038582  ,  0.08432079,\n",
       "         0.11827247, -0.00450299, -0.06554878, -0.12668446, -0.25406319],\n",
       "       [-0.38845601,  0.01233672,  0.02685776,  0.05221604,  0.08497274,\n",
       "         0.12351558,  0.0584663 , -0.06915154, -0.14574729, -0.25468783],\n",
       "       [-0.33317052,  0.12864104,  0.14839789,  0.18559317,  0.19592417,\n",
       "         0.28386958,  0.40082042,  0.09819324, -0.09130173, -0.2031297 ],\n",
       "       [-0.11034789,  0.3938261 ,  0.40978344,  0.43689853,  0.44260063,\n",
       "         0.49640794,  0.61590828,  0.58888216,  0.28604434, -0.01803739],\n",
       "       [ 0.14579611,  0.63471929,  0.64567442,  0.65920948,  0.67284944,\n",
       "         0.70027598,  0.77410181,  0.79211148,  0.76234287,  0.43459446],\n",
       "       [ 0.63943516,  0.88154181,  0.88474038,  0.88908177,  0.89283576,\n",
       "         0.90098634,  0.92643228,  0.9296155 ,  0.93956997,  0.88805052]])"
      ]
     },
     "execution_count": 15,
     "metadata": {},
     "output_type": "execute_result"
    }
   ],
   "source": [
    "optimal_policy.v[:,:,1] #usable=True, the first 11 rows are 0 because these states won't occur. "
   ]
  },
  {
   "cell_type": "code",
   "execution_count": 16,
   "metadata": {},
   "outputs": [
    {
     "data": {
      "image/png": "[encoded data removed]",
      "text/plain": [
       "<matplotlib.figure.Figure at 0x7f67a467f1d0>"
      ]
     },
     "metadata": {},
     "output_type": "display_data"
    }
   ],
   "source": [
    "optimal_policy.visualize()"
   ]
  },
  {
   "cell_type": "markdown",
   "metadata": {},
   "source": [
    "# Q: What's the house edge for this optimal policy ?"
   ]
  },
  {
   "cell_type": "code",
   "execution_count": 17,
   "metadata": {},
   "outputs": [],
   "source": [
    "#Use MC to compute prob(i,j,k)\n",
    "prob = np.zeros((21,10,2))\n",
    "np.random.seed(4)\n",
    "max_iter = int(1e5) #reduce max_iter to 1e6 generates correct result except for the case player=12, dealer=4, use_able=0 \n",
    "for _ in range(max_iter):\n",
    "    dealer_init_cards = np.random.choice(learner.game.cards,size=2,replace=True)\n",
    "    player_init_cards = np.random.choice(learner.game.cards,size=2, replace=True)\n",
    "    i,j,k = convert_cards_to_state(player_init_cards, dealer_init_cards[0])\n",
    "    prob[i,j,k] = prob[i,j,k] + 1.0 \n",
    "prob = prob/max_iter"
   ]
  },
  {
   "cell_type": "code",
   "execution_count": 18,
   "metadata": {},
   "outputs": [
    {
     "data": {
      "text/plain": [
       "0.99999999999999989"
      ]
     },
     "execution_count": 18,
     "metadata": {},
     "output_type": "execute_result"
    }
   ],
   "source": [
    "prob.sum()"
   ]
  },
  {
   "cell_type": "code",
   "execution_count": 19,
   "metadata": {},
   "outputs": [
    {
     "name": "stdout",
     "output_type": "stream",
     "text": [
      "House edge:  -0.0465476640519\n"
     ]
    }
   ],
   "source": [
    "#E[Reture]= sum_{i,j,k} Prob[i,j,k] * E[Reture|i,j,k], E[Return|i,j,k]= optimal_policy.v\n",
    "print \"House edge: \", np.sum(prob*optimal_policy.v)"
   ]
  },
  {
   "cell_type": "code",
   "execution_count": null,
   "metadata": {},
   "outputs": [],
   "source": []
  }
 ],
 "metadata": {
  "kernelspec": {
   "display_name": "Python 2",
   "language": "python",
   "name": "python2"
  },
  "language_info": {
   "codemirror_mode": {
    "name": "ipython",
    "version": 2
   },
   "file_extension": ".py",
   "mimetype": "text/x-python",
   "name": "python",
   "nbconvert_exporter": "python",
   "pygments_lexer": "ipython2",
   "version": "2.7.12"
  }
 },
 "nbformat": 4,
 "nbformat_minor": 2
}
